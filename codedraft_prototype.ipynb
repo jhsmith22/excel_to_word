{
 "cells": [
  {
   "cell_type": "code",
   "execution_count": 127,
   "id": "9cd6acd8",
   "metadata": {},
   "outputs": [
    {
     "name": "stdout",
     "output_type": "stream",
     "text": [
      "Requirement already satisfied: docx in c:\\programdata\\anaconda3\\lib\\site-packages (0.2.4)\n",
      "Requirement already satisfied: lxml in c:\\programdata\\anaconda3\\lib\\site-packages (from docx) (4.6.3)\n",
      "Requirement already satisfied: Pillow>=2.0 in c:\\programdata\\anaconda3\\lib\\site-packages (from docx) (8.4.0)\n",
      "Requirement already satisfied: xlrd in c:\\programdata\\anaconda3\\lib\\site-packages (2.0.1)\n"
     ]
    }
   ],
   "source": [
    "#coding: utf-8\n",
    "# citations: https://pythonmana.com/2021/03/20210329161147051K.html\n",
    "# citation: https://stackoverflow.com/questions/43637211/retrieve-document-content-with-document-structure-with-python-docx\n",
    "\n",
    "# Import Libraries\n",
    "!pip install docx\n",
    "from docx import Document\n",
    "from docx.document import Document as _Document\n",
    "from docx.oxml.text.paragraph import CT_P\n",
    "from docx.oxml.table import CT_Tbl\n",
    "from docx.table import _Cell, Table\n",
    "from docx.text.paragraph import Paragraph\n",
    "import pandas as pd\n",
    "import numpy as np\n",
    "import re\n",
    "from os.path import exists\n",
    "!pip install xlrd"
   ]
  },
  {
   "cell_type": "code",
   "execution_count": 128,
   "id": "9ad33c93",
   "metadata": {},
   "outputs": [],
   "source": [
    "########################################################################\n",
    "# USER INPUTS\n",
    "########################################################################\n",
    "# Replace File Path. This is where all the relevant files should be saved.\n",
    "path = 'C:/Users/jstockham/OneDrive - American Institutes for Research in the Behavioral Sciences/JSmith/PYTHON_CODE_2022/table_automate_jess/general_table_automate/'\n",
    "\n",
    "# Word Document Name (If your Word doc is tableshells.docx, report_doc = 'tableshell.docx')\n",
    "report_doc = 'tableshell.docx'\n",
    "\n",
    "# Excel Document Name (If your Excel doc is rawdata.xlsx, excel_doc = 'rawdata.xlsx')\n",
    "excel_doc = 'rawdata.xlsx'\n",
    "\n",
    "# Crosswalk Excel Document Name (If your Excel doc is crosswalk.xlsx, crosswalk_doc = 'crosswalk.xlsx')\n",
    "crosswalk_doc = 'crosswalk.xlsx'  \n",
    "\n",
    "# Name of updated Word Document - OPTIONAL.  (If your Word doc is outputfile.docx, output_doc = 'outputfile.docx')\n",
    "# If not provided, will replace the contents of the inputted Word doc\n",
    "output_doc = 'outputfile.docx'"
   ]
  },
  {
   "cell_type": "code",
   "execution_count": 129,
   "id": "f07b3219",
   "metadata": {},
   "outputs": [],
   "source": [
    "########################################################################\n",
    "# Load files\n",
    "########################################################################\n",
    "\n",
    "# 1. Load in all sheets from Excel Workbook into Pandas Dataframe\n",
    "tables_data = pd.read_excel(excel_doc, sheet_name=None, header=None)\n",
    "#print(tables_data[\"Table 1\"])\n",
    "#print(tables_data[\"Table 2\"])\n",
    "\n",
    "# 2. Load Word Document into a docx file object\n",
    "document = Document(report_doc)\n",
    "\n",
    "# 3. Load Crosswalk data into Pandas Dataframe\n",
    "crosswalk_data = pd.read_excel(crosswalk_doc)\n",
    "#print(crosswalk_data.head())\n",
    "\n",
    "#4. Set output to be the same as the input Word file\n",
    "if not output_doc:\n",
    "    output_doc == report_doc"
   ]
  },
  {
   "cell_type": "code",
   "execution_count": 130,
   "id": "b428d5b8",
   "metadata": {},
   "outputs": [],
   "source": [
    "########################################################################\n",
    "# Populate Table Data in Word\n",
    "########################################################################\n",
    "#citation: source: https://theprogrammingexpert.com/write-table-fast-python-docx/\n",
    "\n",
    "# Loop through the paragraphs & table pairs in the Word document\n",
    "''' Define script to identify table 'child' within paragraph 'parent' based on document order\n",
    "    Each returned value is an instance of either Table or Paragraph. '''\n",
    "def iter_block_items(parent):\n",
    "    if isinstance(parent, _Document):\n",
    "        parent_elm = parent.element.body\n",
    "    elif isinstance(parent, _Cell):\n",
    "        parent_elm = parent._tc\n",
    "    else:\n",
    "        raise ValueError(\"something's not right\")\n",
    "\n",
    "    for child in parent_elm.iterchildren():\n",
    "        if isinstance(child, CT_P):\n",
    "            yield Paragraph(child, parent)\n",
    "        elif isinstance(child, CT_Tbl):\n",
    "            yield Table(child, parent)      \n",
    "\n",
    "'''Identifies paragraph/table object pairs and inserts the Excel data into the tables'''\n",
    "def tablepopulate(document):\n",
    "\n",
    "    # Iterate through paragraphs and table objects in document\n",
    "    for block in iter_block_items(document):\n",
    "\n",
    "        # If we encounter a paragraph with the AIR Exhibit Title Formatting\n",
    "        if isinstance(block, Paragraph):\n",
    "\n",
    "            # Check if it has Exhibit Title Formatting\n",
    "            if block.style.name==\"Exhibit Title\":\n",
    "                #print(block.text)\n",
    "\n",
    "                # Find Exhibit Title in the Crosswalk\n",
    "                exhibit_name = block.text\n",
    "                excel_sheet_name = crosswalk_data.loc[crosswalk_data['word'] == exhibit_name].iloc[0, 1]\n",
    "\n",
    "                # Continue to the next block item, which is the corresponding table\n",
    "                continue\n",
    "\n",
    "        # The table object just below it\n",
    "        elif isinstance(block,Table):\n",
    "            \n",
    "            # loop through rows of the dataframe\n",
    "            for i in range(tables_data[excel_sheet_name].shape[0]):\n",
    "                # loop through columns of the dataframe\n",
    "                for j in range(tables_data[excel_sheet_name].shape[1]):\n",
    "                    block.cell(i,j).text = str(tables_data[excel_sheet_name].values[i,j])\n",
    "                \n",
    "tablepopulate(document)\n",
    "\n",
    "\n",
    "#3. Save the outputted Word document\n",
    "document.save(output_doc)"
   ]
  },
  {
   "cell_type": "code",
   "execution_count": null,
   "id": "43b49968",
   "metadata": {},
   "outputs": [],
   "source": []
  },
  {
   "cell_type": "code",
   "execution_count": null,
   "id": "372bc840",
   "metadata": {},
   "outputs": [],
   "source": []
  },
  {
   "cell_type": "code",
   "execution_count": null,
   "id": "509deb56",
   "metadata": {},
   "outputs": [],
   "source": []
  },
  {
   "cell_type": "code",
   "execution_count": null,
   "id": "cc8d4f89",
   "metadata": {},
   "outputs": [],
   "source": []
  },
  {
   "cell_type": "code",
   "execution_count": null,
   "id": "07cbc5d8",
   "metadata": {},
   "outputs": [],
   "source": []
  }
 ],
 "metadata": {
  "kernelspec": {
   "display_name": "Python 3 (ipykernel)",
   "language": "python",
   "name": "python3"
  },
  "language_info": {
   "codemirror_mode": {
    "name": "ipython",
    "version": 3
   },
   "file_extension": ".py",
   "mimetype": "text/x-python",
   "name": "python",
   "nbconvert_exporter": "python",
   "pygments_lexer": "ipython3",
   "version": "3.9.7"
  }
 },
 "nbformat": 4,
 "nbformat_minor": 5
}
