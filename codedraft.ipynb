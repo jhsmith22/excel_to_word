{
 "cells": [
  {
   "cell_type": "code",
   "execution_count": 1,
   "id": "9cd6acd8",
   "metadata": {},
   "outputs": [
    {
     "name": "stdout",
     "output_type": "stream",
     "text": [
      "Requirement already satisfied: docx in c:\\programdata\\anaconda3\\lib\\site-packages (0.2.4)\n",
      "Requirement already satisfied: Pillow>=2.0 in c:\\programdata\\anaconda3\\lib\\site-packages (from docx) (8.4.0)\n",
      "Requirement already satisfied: lxml in c:\\programdata\\anaconda3\\lib\\site-packages (from docx) (4.6.3)\n"
     ]
    }
   ],
   "source": [
    "#coding: utf-8\n",
    "# citations: https://pythonmana.com/2021/03/20210329161147051K.html\n",
    "# citation: https://stackoverflow.com/questions/43637211/retrieve-document-content-with-document-structure-with-python-docx\n",
    "\n",
    "# Import Libraries\n",
    "!pip install docx\n",
    "from docx import Document\n",
    "from docx.document import Document as _Document\n",
    "from docx.oxml.text.paragraph import CT_P\n",
    "from docx.oxml.table import CT_Tbl\n",
    "from docx.table import _Cell, Table\n",
    "from docx.text.paragraph import Paragraph\n",
    "import pandas as pd\n",
    "import numpy as np\n",
    "import re\n",
    "from os.path import exists\n",
    "!pip install xlrd"
   ]
  },
  {
   "cell_type": "code",
   "execution_count": 2,
   "id": "ea8a1703",
   "metadata": {},
   "outputs": [],
   "source": [
    "########################################################################\n",
    "# USER INPUTS\n",
    "########################################################################\n",
    "# Replace File Path\n",
    "path = 'C:/Users/jstockham/OneDrive - American Institutes for Research in the Behavioral Sciences/JSmith/PYTHON_CODE_2022/table_automate_jess/general_table_automate/'\n",
    "\n",
    "# Word Document Name (If your Word doc is tableshells.docx, word_doc = 'tableshells.docx')\n",
    "word_doc = 'tableshell.docx'\n",
    "\n",
    "# Excel Document Name (If your Excel doc is rawdata.xlsx, excel_doc = 'rawdata.xlsx')\n",
    "excel_doc = 'rawdata.xlsx'\n",
    "\n",
    "# Crosswalk Excel Document Name (If your Excel doc is crosswalk.xlsx, crosswalk_doc = 'crosswalk.xlsx')\n",
    "#crosswalk_doc = 'crosswalk.xlsx'  \n",
    "\n",
    "# Name of updated Word Document - OPTIONAL. If not provided, will replace the contents of the inputted Word doc\n",
    "word_doc_output = ''"
   ]
  },
  {
   "cell_type": "code",
   "execution_count": 10,
   "id": "f07b3219",
   "metadata": {},
   "outputs": [
    {
     "name": "stdout",
     "output_type": "stream",
     "text": [
      "                            Category  Participant  Pre-Participant  Total\n",
      "0                      Google/Online        0.028            0.012  0.026\n",
      "1                            Faculty        0.603            0.612  0.604\n",
      "2                     Outreach Event        0.095            0.106  0.097\n",
      "3                      Word-of-Mouth        0.127            0.082  0.120\n",
      "4                     Job Fair/Email        0.004            0.000  0.004\n",
      "5  Advisor/Class/J-Standard Bootcamp        0.006            0.000  0.006\n",
      "6                              Other        0.037            0.082  0.044\n",
      "      Status  Female  Male\n",
      "0     Exiter    0.41  0.37\n",
      "1  Completer    0.59  0.63\n",
      "2      Total    1.00  1.00\n"
     ]
    }
   ],
   "source": [
    "########################################################################\n",
    "# Load files\n",
    "########################################################################\n",
    "\n",
    "# 1. Load in all sheets from Excel Workbook into Pandas Dataframe\n",
    "tables_data = pd.read_excel(excel_doc, sheet_name=None)\n",
    "print(tables_data[\"Table 1\"])\n",
    "print(tables_data[\"Table 2\"])\n",
    "\n",
    "# 2. Load Word Document into a docx file object\n",
    "document = Document(word_doc)\n",
    "\n",
    "# 3. Load Crosswalk data into Pandas Dataframe {NOT NEEDED}"
   ]
  },
  {
   "cell_type": "code",
   "execution_count": 5,
   "id": "2f5d4656",
   "metadata": {},
   "outputs": [
    {
     "ename": "AttributeError",
     "evalue": "'list' object has no attribute 'text'",
     "output_type": "error",
     "traceback": [
      "\u001b[1;31m---------------------------------------------------------------------------\u001b[0m",
      "\u001b[1;31mAttributeError\u001b[0m                            Traceback (most recent call last)",
      "\u001b[1;32mC:\\Users\\JSTOCK~1\\AppData\\Local\\Temp/ipykernel_29776/1794404994.py\u001b[0m in \u001b[0;36m<module>\u001b[1;34m\u001b[0m\n\u001b[0;32m      6\u001b[0m \u001b[1;31m# 1. Extract all Table Titles from the Word Doc and save them into a List\u001b[0m\u001b[1;33m\u001b[0m\u001b[1;33m\u001b[0m\u001b[0m\n\u001b[0;32m      7\u001b[0m \u001b[1;33m\u001b[0m\u001b[0m\n\u001b[1;32m----> 8\u001b[1;33m \u001b[0mprint\u001b[0m\u001b[1;33m(\u001b[0m\u001b[0mdocument\u001b[0m\u001b[1;33m.\u001b[0m\u001b[0mparagraphs\u001b[0m\u001b[1;33m.\u001b[0m\u001b[0mtext\u001b[0m\u001b[1;33m)\u001b[0m\u001b[1;33m\u001b[0m\u001b[1;33m\u001b[0m\u001b[0m\n\u001b[0m\u001b[0;32m      9\u001b[0m \u001b[1;33m\u001b[0m\u001b[0m\n\u001b[0;32m     10\u001b[0m \u001b[1;31m# paragraph_list = []\u001b[0m\u001b[1;33m\u001b[0m\u001b[1;33m\u001b[0m\u001b[0m\n",
      "\u001b[1;31mAttributeError\u001b[0m: 'list' object has no attribute 'text'"
     ]
    }
   ],
   "source": [
    "########################################################################\n",
    "# Create Crosswalk File\n",
    "########################################################################\n",
    "\n",
    "# 1. Extract all Table Titles from the Word Doc and save them into a List\n",
    "# All the Table titles in the Word doc must be in the same order as the Tables in Excel Workbook\n",
    "\n",
    "paragraph_list = []\n",
    "for paragraph in document.paragraphs: \n",
    "    paragraph_list.append(paragraph)\n",
    "    print(paragraph.text) \n",
    "\n",
    "# print(paragraph_list)\n",
    "\n",
    "# 2. Extract all sheet names from the Excel Workbook and save into a list\n",
    "# https://pythonbasics.org/read-excel/#:~:text=To%20read%20an%20excel%20file%20as%20a%20DataFrame%2C,The%20programs%20we%E2%80%99ll%20make%20reads%20Excel%20into%20Python.\n",
    "# https://stackoverflow.com/questions/12250024/how-to-obtain-sheet-names-from-xls-files-without-loading-the-whole-file\n",
    "\n",
    "sheet_list = []\n",
    "\n",
    "#3. Save 1 & 2 into a data structure. List of lists? Pandas Dataframe?"
   ]
  },
  {
   "cell_type": "code",
   "execution_count": 15,
   "id": "b428d5b8",
   "metadata": {},
   "outputs": [
    {
     "name": "stdout",
     "output_type": "stream",
     "text": [
      "Table 1\n",
      "<table>\n",
      "\n",
      "Table 2\n",
      "<table>\n",
      "\n"
     ]
    }
   ],
   "source": [
    "########################################################################\n",
    "# Populate Table Data in Word\n",
    "########################################################################\n",
    "\n",
    "\n",
    "# Loop through the paragraphs & table pairs in the Word document\n",
    "\n",
    "    #1. Identify the matching table data from the mapping in the Crosswalk Data Structure\n",
    "\n",
    "    #2. Load in the appropriate table data from the sheet_list\n",
    "\n",
    "    #3. Loop through the table rows and populate the data\n",
    "\n",
    "    \n",
    "    # source: https://theprogrammingexpert.com/write-table-fast-python-docx/\n",
    "    \n",
    "        # Note that this is cutting off the header row\n",
    "        table = document.add_table(rows=data.shape[0], cols=data.shape[1])\n",
    "        # loop through rows of the dataframe\n",
    "        for i in range(data.shape[0]):\n",
    "            # loop through columns of the dataframe\n",
    "            for j in range(data.shape[1]):\n",
    "                table.cell(i,j).text = str(data.values[i,j])\n",
    "\n",
    "\n",
    "    #3. Save the Word document\n",
    "    document.save(\"output_file_path.docx\")"
   ]
  },
  {
   "cell_type": "code",
   "execution_count": 6,
   "id": "43b49968",
   "metadata": {},
   "outputs": [
    {
     "name": "stdout",
     "output_type": "stream",
     "text": [
      "found one\n",
      "Table 1\n",
      "found one\n",
      "<table>\n",
      "found one\n",
      "\n",
      "found one\n",
      "Table 2\n",
      "found one\n",
      "<table>\n",
      "found one\n",
      "\n"
     ]
    }
   ],
   "source": [
    "#https://stackoverflow.com/questions/43637211/retrieve-document-content-with-document-structure-with-python-docx\n",
    "    \n",
    "    #!/usr/bin/env python\n",
    "# encoding: utf-8\n",
    "\n",
    "\"\"\"\n",
    "Testing iter_block_items()\n",
    "\"\"\"\n",
    "\n",
    "from __future__ import (\n",
    "    absolute_import, division, print_function, unicode_literals\n",
    ")\n",
    "\n",
    "from docx import Document\n",
    "from docx.document import Document as _Document\n",
    "from docx.oxml.text.paragraph import CT_P\n",
    "from docx.oxml.table import CT_Tbl\n",
    "from docx.table import _Cell, Table\n",
    "from docx.text.paragraph import Paragraph\n",
    "\n",
    "\n",
    "def iter_block_items(parent):\n",
    "    \"\"\"\n",
    "    Generate a reference to each paragraph and table child within *parent*,\n",
    "    in document order. Each returned value is an instance of either Table or\n",
    "    Paragraph. *parent* would most commonly be a reference to a main\n",
    "    Document object, but also works for a _Cell object, which itself can\n",
    "    contain paragraphs and tables.\n",
    "    \"\"\"\n",
    "    if isinstance(parent, _Document):\n",
    "        parent_elm = parent.element.body\n",
    "        # print(parent_elm.xml)\n",
    "    elif isinstance(parent, _Cell):\n",
    "        parent_elm = parent._tc\n",
    "    else:\n",
    "        raise ValueError(\"something's not right\")\n",
    "\n",
    "    for child in parent_elm.iterchildren():\n",
    "        if isinstance(child, CT_P):\n",
    "            yield Paragraph(child, parent)\n",
    "        elif isinstance(child, CT_Tbl):\n",
    "            yield Table(child, parent)\n",
    "\n",
    "for block in iter_block_items(document):\n",
    "    print('found one')\n",
    "    print(block.text if isinstance(block, Paragraph) else '<table>')"
   ]
  },
  {
   "cell_type": "code",
   "execution_count": null,
   "id": "e8001510",
   "metadata": {},
   "outputs": [],
   "source": []
  }
 ],
 "metadata": {
  "kernelspec": {
   "display_name": "Python 3 (ipykernel)",
   "language": "python",
   "name": "python3"
  },
  "language_info": {
   "codemirror_mode": {
    "name": "ipython",
    "version": 3
   },
   "file_extension": ".py",
   "mimetype": "text/x-python",
   "name": "python",
   "nbconvert_exporter": "python",
   "pygments_lexer": "ipython3",
   "version": "3.9.7"
  }
 },
 "nbformat": 4,
 "nbformat_minor": 5
}
